{
 "cells": [
  {
   "cell_type": "code",
   "execution_count": 1,
   "id": "6093188f-6c37-4570-bdec-9e98b64cb6cb",
   "metadata": {},
   "outputs": [],
   "source": [
    "from pathlib import Path"
   ]
  },
  {
   "cell_type": "code",
   "execution_count": 2,
   "id": "993d2c0f-eb38-4b36-9844-c6da68ab1905",
   "metadata": {},
   "outputs": [],
   "source": [
    "import pandas as pd"
   ]
  },
  {
   "cell_type": "code",
   "execution_count": 3,
   "id": "ff9c40b1-b131-432b-8fc8-2131c1a2b982",
   "metadata": {},
   "outputs": [],
   "source": [
    "from sklearn.impute import SimpleImputer"
   ]
  },
  {
   "cell_type": "code",
   "execution_count": 4,
   "id": "64e90d13-f34b-4da4-9741-055bf71c9dce",
   "metadata": {},
   "outputs": [],
   "source": [
    "import numpy as np"
   ]
  },
  {
   "cell_type": "code",
   "execution_count": 5,
   "id": "4d957b99-f186-47d1-9f9b-0eaaf648dbe8",
   "metadata": {},
   "outputs": [],
   "source": [
    "from pytorch_lightning import Trainer\n",
    "from pytorch_lightning.callbacks import ModelCheckpoint"
   ]
  },
  {
   "cell_type": "code",
   "execution_count": 6,
   "id": "cc57fd6c-6c97-4678-b66e-626098b860b4",
   "metadata": {},
   "outputs": [],
   "source": [
    "from models.pl_trainer.PLTrainer import EnvVectorModelTrainer"
   ]
  },
  {
   "cell_type": "code",
   "execution_count": 7,
   "id": "1721ada1-9bc6-4117-9029-5b6b047af01d",
   "metadata": {},
   "outputs": [],
   "source": [
    "from models.pl_trainer.PLTrainer import ResNetBasedModelTrainer"
   ]
  },
  {
   "cell_type": "code",
   "execution_count": 8,
   "id": "3d914710-04de-4780-995e-f0149ff0b57d",
   "metadata": {},
   "outputs": [],
   "source": [
    "from sklearn.preprocessing import LabelEncoder"
   ]
  },
  {
   "cell_type": "markdown",
   "id": "fef0a7ab-bf35-44a8-b578-992ebceec7f2",
   "metadata": {},
   "source": [
    "## Global Variables ##"
   ]
  },
  {
   "cell_type": "code",
   "execution_count": 9,
   "id": "de1c570e-fe9e-41ca-bda7-e4174481871c",
   "metadata": {},
   "outputs": [],
   "source": [
    "DATA_PATH = Path(\"./data/geolifeclef-2022-lifeclef-2022-fgvc9/\")"
   ]
  },
  {
   "cell_type": "code",
   "execution_count": 10,
   "id": "fc3ececd-08b8-434a-85f7-0ed6a98f0e21",
   "metadata": {},
   "outputs": [
    {
     "data": {
      "text/plain": [
       "PosixPath('data/geolifeclef-2022-lifeclef-2022-fgvc9')"
      ]
     },
     "execution_count": 10,
     "metadata": {},
     "output_type": "execute_result"
    }
   ],
   "source": [
    "DATA_PATH"
   ]
  },
  {
   "cell_type": "code",
   "execution_count": null,
   "id": "671d1042-332c-4b18-b11d-30ba26e9de39",
   "metadata": {},
   "outputs": [],
   "source": []
  },
  {
   "cell_type": "markdown",
   "id": "5a70c728-e26e-4a3d-b6b0-f2f9e70525e1",
   "metadata": {},
   "source": [
    "## Load Data ##"
   ]
  },
  {
   "cell_type": "markdown",
   "id": "f48f4a13-b895-4e95-a75f-1414528412df",
   "metadata": {},
   "source": [
    "#### Training Data ####"
   ]
  },
  {
   "cell_type": "code",
   "execution_count": 11,
   "id": "61ebd0eb-a37f-4b86-a8c1-527ce2f6e1b3",
   "metadata": {},
   "outputs": [
    {
     "name": "stdout",
     "output_type": "stream",
     "text": [
      "Number of observations for training: 1627475\n"
     ]
    },
    {
     "data": {
      "text/html": [
       "<div>\n",
       "<style scoped>\n",
       "    .dataframe tbody tr th:only-of-type {\n",
       "        vertical-align: middle;\n",
       "    }\n",
       "\n",
       "    .dataframe tbody tr th {\n",
       "        vertical-align: top;\n",
       "    }\n",
       "\n",
       "    .dataframe thead th {\n",
       "        text-align: right;\n",
       "    }\n",
       "</style>\n",
       "<table border=\"1\" class=\"dataframe\">\n",
       "  <thead>\n",
       "    <tr style=\"text-align: right;\">\n",
       "      <th></th>\n",
       "      <th>observation_id</th>\n",
       "      <th>latitude</th>\n",
       "      <th>longitude</th>\n",
       "      <th>species_id</th>\n",
       "      <th>subset</th>\n",
       "    </tr>\n",
       "  </thead>\n",
       "  <tbody>\n",
       "    <tr>\n",
       "      <th>0</th>\n",
       "      <td>10561949</td>\n",
       "      <td>45.705116</td>\n",
       "      <td>1.424622</td>\n",
       "      <td>241</td>\n",
       "      <td>train</td>\n",
       "    </tr>\n",
       "    <tr>\n",
       "      <th>1</th>\n",
       "      <td>10131188</td>\n",
       "      <td>45.146973</td>\n",
       "      <td>6.416794</td>\n",
       "      <td>101</td>\n",
       "      <td>train</td>\n",
       "    </tr>\n",
       "    <tr>\n",
       "      <th>2</th>\n",
       "      <td>10799362</td>\n",
       "      <td>46.783695</td>\n",
       "      <td>-2.072855</td>\n",
       "      <td>700</td>\n",
       "      <td>train</td>\n",
       "    </tr>\n",
       "    <tr>\n",
       "      <th>3</th>\n",
       "      <td>10392536</td>\n",
       "      <td>48.604866</td>\n",
       "      <td>-2.825003</td>\n",
       "      <td>1456</td>\n",
       "      <td>train</td>\n",
       "    </tr>\n",
       "    <tr>\n",
       "      <th>4</th>\n",
       "      <td>10335049</td>\n",
       "      <td>48.815567</td>\n",
       "      <td>-0.161431</td>\n",
       "      <td>157</td>\n",
       "      <td>train</td>\n",
       "    </tr>\n",
       "  </tbody>\n",
       "</table>\n",
       "</div>"
      ],
      "text/plain": [
       "   observation_id   latitude  longitude  species_id subset\n",
       "0        10561949  45.705116   1.424622         241  train\n",
       "1        10131188  45.146973   6.416794         101  train\n",
       "2        10799362  46.783695  -2.072855         700  train\n",
       "3        10392536  48.604866  -2.825003        1456  train\n",
       "4        10335049  48.815567  -0.161431         157  train"
      ]
     },
     "execution_count": 11,
     "metadata": {},
     "output_type": "execute_result"
    }
   ],
   "source": [
    "df_obs_fr = pd.read_csv(DATA_PATH / \"observations\" / \"observations_fr_train.csv\", sep=\";\")\n",
    "df_obs_us = pd.read_csv(DATA_PATH / \"observations\" / \"observations_us_train.csv\", sep=\";\")\n",
    "\n",
    "df_obs = pd.concat((df_obs_fr, df_obs_us))\n",
    "\n",
    "print(\"Number of observations for training: {}\".format(len(df_obs)))\n",
    "\n",
    "df_obs.head()"
   ]
  },
  {
   "cell_type": "code",
   "execution_count": 12,
   "id": "ec0ed437-e18d-488c-8071-346369210ff7",
   "metadata": {},
   "outputs": [
    {
     "data": {
      "text/plain": [
       "train    1587395\n",
       "val        40080\n",
       "Name: subset, dtype: int64"
      ]
     },
     "execution_count": 12,
     "metadata": {},
     "output_type": "execute_result"
    }
   ],
   "source": [
    "df_obs.subset.value_counts()"
   ]
  },
  {
   "cell_type": "code",
   "execution_count": 13,
   "id": "cc391495-f59d-44ef-abbd-5bfeebb84632",
   "metadata": {},
   "outputs": [
    {
     "data": {
      "text/plain": [
       "17037"
      ]
     },
     "execution_count": 13,
     "metadata": {},
     "output_type": "execute_result"
    }
   ],
   "source": [
    "df_obs.species_id.unique().size"
   ]
  },
  {
   "cell_type": "markdown",
   "id": "8093e835-7038-45c3-b200-037dc6d0fca3",
   "metadata": {},
   "source": [
    "#### Test Data #####"
   ]
  },
  {
   "cell_type": "code",
   "execution_count": 14,
   "id": "51658342-b1eb-4f8f-b220-6417213ea350",
   "metadata": {},
   "outputs": [
    {
     "name": "stdout",
     "output_type": "stream",
     "text": [
      "Number of observations for testing: 36421\n"
     ]
    },
    {
     "data": {
      "text/html": [
       "<div>\n",
       "<style scoped>\n",
       "    .dataframe tbody tr th:only-of-type {\n",
       "        vertical-align: middle;\n",
       "    }\n",
       "\n",
       "    .dataframe tbody tr th {\n",
       "        vertical-align: top;\n",
       "    }\n",
       "\n",
       "    .dataframe thead th {\n",
       "        text-align: right;\n",
       "    }\n",
       "</style>\n",
       "<table border=\"1\" class=\"dataframe\">\n",
       "  <thead>\n",
       "    <tr style=\"text-align: right;\">\n",
       "      <th></th>\n",
       "      <th>observation_id</th>\n",
       "      <th>latitude</th>\n",
       "      <th>longitude</th>\n",
       "    </tr>\n",
       "  </thead>\n",
       "  <tbody>\n",
       "    <tr>\n",
       "      <th>0</th>\n",
       "      <td>10782781</td>\n",
       "      <td>43.601788</td>\n",
       "      <td>6.940195</td>\n",
       "    </tr>\n",
       "    <tr>\n",
       "      <th>1</th>\n",
       "      <td>10364138</td>\n",
       "      <td>46.241711</td>\n",
       "      <td>0.683586</td>\n",
       "    </tr>\n",
       "    <tr>\n",
       "      <th>2</th>\n",
       "      <td>10692017</td>\n",
       "      <td>45.181095</td>\n",
       "      <td>1.533459</td>\n",
       "    </tr>\n",
       "    <tr>\n",
       "      <th>3</th>\n",
       "      <td>10222322</td>\n",
       "      <td>46.938450</td>\n",
       "      <td>5.298678</td>\n",
       "    </tr>\n",
       "    <tr>\n",
       "      <th>4</th>\n",
       "      <td>10241950</td>\n",
       "      <td>45.017433</td>\n",
       "      <td>0.960736</td>\n",
       "    </tr>\n",
       "  </tbody>\n",
       "</table>\n",
       "</div>"
      ],
      "text/plain": [
       "   observation_id   latitude  longitude\n",
       "0        10782781  43.601788   6.940195\n",
       "1        10364138  46.241711   0.683586\n",
       "2        10692017  45.181095   1.533459\n",
       "3        10222322  46.938450   5.298678\n",
       "4        10241950  45.017433   0.960736"
      ]
     },
     "execution_count": 14,
     "metadata": {},
     "output_type": "execute_result"
    }
   ],
   "source": [
    "df_obs_fr_test = pd.read_csv(DATA_PATH / \"observations\" / \"observations_fr_test.csv\", sep=\";\")\n",
    "df_obs_us_test = pd.read_csv(DATA_PATH / \"observations\" / \"observations_us_test.csv\", sep=\";\")\n",
    "\n",
    "df_obs_test = pd.concat((df_obs_fr_test, df_obs_us_test))\n",
    "\n",
    "print(\"Number of observations for testing: {}\".format(len(df_obs_test)))\n",
    "\n",
    "df_obs_test.head()"
   ]
  },
  {
   "cell_type": "markdown",
   "id": "4f8096e3-54a4-4d27-9b15-142fba803f2a",
   "metadata": {},
   "source": [
    "#### Species Info ####"
   ]
  },
  {
   "cell_type": "code",
   "execution_count": 15,
   "id": "c1c13640-7ab6-4bf8-a8a9-6032c5231cad",
   "metadata": {},
   "outputs": [],
   "source": [
    "df_species = pd.read_csv(DATA_PATH / \"metadata\" / \"species_details.csv\", sep=\";\")"
   ]
  },
  {
   "cell_type": "code",
   "execution_count": 16,
   "id": "061f4e15-d82b-4e94-abf0-54ef7d8cfba5",
   "metadata": {},
   "outputs": [
    {
     "data": {
      "text/html": [
       "<div>\n",
       "<style scoped>\n",
       "    .dataframe tbody tr th:only-of-type {\n",
       "        vertical-align: middle;\n",
       "    }\n",
       "\n",
       "    .dataframe tbody tr th {\n",
       "        vertical-align: top;\n",
       "    }\n",
       "\n",
       "    .dataframe thead th {\n",
       "        text-align: right;\n",
       "    }\n",
       "</style>\n",
       "<table border=\"1\" class=\"dataframe\">\n",
       "  <thead>\n",
       "    <tr style=\"text-align: right;\">\n",
       "      <th></th>\n",
       "      <th>species_id</th>\n",
       "      <th>GBIF_species_id</th>\n",
       "      <th>GBIF_species_name</th>\n",
       "      <th>GBIF_genus_name</th>\n",
       "      <th>GBIF_family_name</th>\n",
       "      <th>GBIF_kingdom_name</th>\n",
       "    </tr>\n",
       "  </thead>\n",
       "  <tbody>\n",
       "    <tr>\n",
       "      <th>0</th>\n",
       "      <td>0</td>\n",
       "      <td>5356345</td>\n",
       "      <td>Laburnum anagyroides</td>\n",
       "      <td>Laburnum</td>\n",
       "      <td>Fabaceae</td>\n",
       "      <td>Plantae</td>\n",
       "    </tr>\n",
       "    <tr>\n",
       "      <th>1</th>\n",
       "      <td>1</td>\n",
       "      <td>2874515</td>\n",
       "      <td>Cucurbita maxima</td>\n",
       "      <td>Cucurbita</td>\n",
       "      <td>Cucurbitaceae</td>\n",
       "      <td>Plantae</td>\n",
       "    </tr>\n",
       "    <tr>\n",
       "      <th>2</th>\n",
       "      <td>2</td>\n",
       "      <td>2874569</td>\n",
       "      <td>Cucumis sativus</td>\n",
       "      <td>Cucumis</td>\n",
       "      <td>Cucurbitaceae</td>\n",
       "      <td>Plantae</td>\n",
       "    </tr>\n",
       "    <tr>\n",
       "      <th>3</th>\n",
       "      <td>3</td>\n",
       "      <td>3033363</td>\n",
       "      <td>Ranunculus acris</td>\n",
       "      <td>Ranunculus</td>\n",
       "      <td>Ranunculaceae</td>\n",
       "      <td>Plantae</td>\n",
       "    </tr>\n",
       "    <tr>\n",
       "      <th>4</th>\n",
       "      <td>4</td>\n",
       "      <td>3034830</td>\n",
       "      <td>Heracleum sphondylium</td>\n",
       "      <td>Heracleum</td>\n",
       "      <td>Apiaceae</td>\n",
       "      <td>Plantae</td>\n",
       "    </tr>\n",
       "  </tbody>\n",
       "</table>\n",
       "</div>"
      ],
      "text/plain": [
       "   species_id  GBIF_species_id      GBIF_species_name GBIF_genus_name  \\\n",
       "0           0          5356345   Laburnum anagyroides        Laburnum   \n",
       "1           1          2874515       Cucurbita maxima       Cucurbita   \n",
       "2           2          2874569        Cucumis sativus         Cucumis   \n",
       "3           3          3033363       Ranunculus acris      Ranunculus   \n",
       "4           4          3034830  Heracleum sphondylium       Heracleum   \n",
       "\n",
       "  GBIF_family_name GBIF_kingdom_name  \n",
       "0         Fabaceae           Plantae  \n",
       "1    Cucurbitaceae           Plantae  \n",
       "2    Cucurbitaceae           Plantae  \n",
       "3    Ranunculaceae           Plantae  \n",
       "4         Apiaceae           Plantae  "
      ]
     },
     "execution_count": 16,
     "metadata": {},
     "output_type": "execute_result"
    }
   ],
   "source": [
    "df_species.head()"
   ]
  },
  {
   "cell_type": "markdown",
   "id": "5ee3ceb9-ba5e-47c1-9302-89def1f360ad",
   "metadata": {},
   "source": [
    "#### Env Vectors ####"
   ]
  },
  {
   "cell_type": "code",
   "execution_count": 17,
   "id": "6809b8c5-c41e-44c1-93a8-f6a843a8a9ad",
   "metadata": {},
   "outputs": [
    {
     "data": {
      "text/html": [
       "<div>\n",
       "<style scoped>\n",
       "    .dataframe tbody tr th:only-of-type {\n",
       "        vertical-align: middle;\n",
       "    }\n",
       "\n",
       "    .dataframe tbody tr th {\n",
       "        vertical-align: top;\n",
       "    }\n",
       "\n",
       "    .dataframe thead th {\n",
       "        text-align: right;\n",
       "    }\n",
       "</style>\n",
       "<table border=\"1\" class=\"dataframe\">\n",
       "  <thead>\n",
       "    <tr style=\"text-align: right;\">\n",
       "      <th></th>\n",
       "      <th>observation_id</th>\n",
       "      <th>bio_1</th>\n",
       "      <th>bio_2</th>\n",
       "      <th>bio_3</th>\n",
       "      <th>bio_4</th>\n",
       "      <th>bio_5</th>\n",
       "      <th>bio_6</th>\n",
       "      <th>bio_7</th>\n",
       "      <th>bio_8</th>\n",
       "      <th>bio_9</th>\n",
       "      <th>...</th>\n",
       "      <th>bio_18</th>\n",
       "      <th>bio_19</th>\n",
       "      <th>bdticm</th>\n",
       "      <th>bldfie</th>\n",
       "      <th>cecsol</th>\n",
       "      <th>clyppt</th>\n",
       "      <th>orcdrc</th>\n",
       "      <th>phihox</th>\n",
       "      <th>sltppt</th>\n",
       "      <th>sndppt</th>\n",
       "    </tr>\n",
       "  </thead>\n",
       "  <tbody>\n",
       "    <tr>\n",
       "      <th>0</th>\n",
       "      <td>10000000</td>\n",
       "      <td>1.420833</td>\n",
       "      <td>6.908333</td>\n",
       "      <td>29.272598</td>\n",
       "      <td>614.14930</td>\n",
       "      <td>15.1</td>\n",
       "      <td>-8.5</td>\n",
       "      <td>23.600000</td>\n",
       "      <td>-1.000000</td>\n",
       "      <td>9.183333</td>\n",
       "      <td>...</td>\n",
       "      <td>248.0</td>\n",
       "      <td>358.0</td>\n",
       "      <td>2082.0</td>\n",
       "      <td>988.0</td>\n",
       "      <td>29.0</td>\n",
       "      <td>13.0</td>\n",
       "      <td>63.0</td>\n",
       "      <td>62.0</td>\n",
       "      <td>34.0</td>\n",
       "      <td>53.0</td>\n",
       "    </tr>\n",
       "    <tr>\n",
       "      <th>1</th>\n",
       "      <td>10000001</td>\n",
       "      <td>8.837500</td>\n",
       "      <td>9.858334</td>\n",
       "      <td>37.771393</td>\n",
       "      <td>586.81390</td>\n",
       "      <td>23.8</td>\n",
       "      <td>-2.3</td>\n",
       "      <td>26.099998</td>\n",
       "      <td>6.016667</td>\n",
       "      <td>16.383333</td>\n",
       "      <td>...</td>\n",
       "      <td>226.0</td>\n",
       "      <td>288.0</td>\n",
       "      <td>1816.0</td>\n",
       "      <td>1142.0</td>\n",
       "      <td>20.0</td>\n",
       "      <td>22.0</td>\n",
       "      <td>39.0</td>\n",
       "      <td>58.0</td>\n",
       "      <td>41.0</td>\n",
       "      <td>36.0</td>\n",
       "    </tr>\n",
       "    <tr>\n",
       "      <th>2</th>\n",
       "      <td>10000002</td>\n",
       "      <td>6.241667</td>\n",
       "      <td>8.350000</td>\n",
       "      <td>32.239384</td>\n",
       "      <td>632.86090</td>\n",
       "      <td>21.0</td>\n",
       "      <td>-4.9</td>\n",
       "      <td>25.900000</td>\n",
       "      <td>3.033333</td>\n",
       "      <td>14.200000</td>\n",
       "      <td>...</td>\n",
       "      <td>268.0</td>\n",
       "      <td>317.0</td>\n",
       "      <td>1346.0</td>\n",
       "      <td>1075.0</td>\n",
       "      <td>29.0</td>\n",
       "      <td>22.0</td>\n",
       "      <td>54.0</td>\n",
       "      <td>59.0</td>\n",
       "      <td>40.0</td>\n",
       "      <td>38.0</td>\n",
       "    </tr>\n",
       "    <tr>\n",
       "      <th>3</th>\n",
       "      <td>10000003</td>\n",
       "      <td>12.554167</td>\n",
       "      <td>9.525001</td>\n",
       "      <td>40.189877</td>\n",
       "      <td>541.80865</td>\n",
       "      <td>25.9</td>\n",
       "      <td>2.2</td>\n",
       "      <td>23.699999</td>\n",
       "      <td>6.850000</td>\n",
       "      <td>19.350000</td>\n",
       "      <td>...</td>\n",
       "      <td>157.0</td>\n",
       "      <td>257.0</td>\n",
       "      <td>1227.0</td>\n",
       "      <td>1383.0</td>\n",
       "      <td>21.0</td>\n",
       "      <td>28.0</td>\n",
       "      <td>18.0</td>\n",
       "      <td>71.0</td>\n",
       "      <td>46.0</td>\n",
       "      <td>25.0</td>\n",
       "    </tr>\n",
       "    <tr>\n",
       "      <th>4</th>\n",
       "      <td>10000004</td>\n",
       "      <td>8.029167</td>\n",
       "      <td>10.075000</td>\n",
       "      <td>36.636364</td>\n",
       "      <td>633.01750</td>\n",
       "      <td>23.7</td>\n",
       "      <td>-3.8</td>\n",
       "      <td>27.500000</td>\n",
       "      <td>4.616667</td>\n",
       "      <td>16.083334</td>\n",
       "      <td>...</td>\n",
       "      <td>214.0</td>\n",
       "      <td>280.0</td>\n",
       "      <td>2833.0</td>\n",
       "      <td>1202.0</td>\n",
       "      <td>24.0</td>\n",
       "      <td>25.0</td>\n",
       "      <td>33.0</td>\n",
       "      <td>69.0</td>\n",
       "      <td>38.0</td>\n",
       "      <td>37.0</td>\n",
       "    </tr>\n",
       "  </tbody>\n",
       "</table>\n",
       "<p>5 rows × 28 columns</p>\n",
       "</div>"
      ],
      "text/plain": [
       "   observation_id      bio_1      bio_2      bio_3      bio_4  bio_5  bio_6  \\\n",
       "0        10000000   1.420833   6.908333  29.272598  614.14930   15.1   -8.5   \n",
       "1        10000001   8.837500   9.858334  37.771393  586.81390   23.8   -2.3   \n",
       "2        10000002   6.241667   8.350000  32.239384  632.86090   21.0   -4.9   \n",
       "3        10000003  12.554167   9.525001  40.189877  541.80865   25.9    2.2   \n",
       "4        10000004   8.029167  10.075000  36.636364  633.01750   23.7   -3.8   \n",
       "\n",
       "       bio_7     bio_8      bio_9  ...  bio_18  bio_19  bdticm  bldfie  \\\n",
       "0  23.600000 -1.000000   9.183333  ...   248.0   358.0  2082.0   988.0   \n",
       "1  26.099998  6.016667  16.383333  ...   226.0   288.0  1816.0  1142.0   \n",
       "2  25.900000  3.033333  14.200000  ...   268.0   317.0  1346.0  1075.0   \n",
       "3  23.699999  6.850000  19.350000  ...   157.0   257.0  1227.0  1383.0   \n",
       "4  27.500000  4.616667  16.083334  ...   214.0   280.0  2833.0  1202.0   \n",
       "\n",
       "   cecsol  clyppt  orcdrc  phihox  sltppt  sndppt  \n",
       "0    29.0    13.0    63.0    62.0    34.0    53.0  \n",
       "1    20.0    22.0    39.0    58.0    41.0    36.0  \n",
       "2    29.0    22.0    54.0    59.0    40.0    38.0  \n",
       "3    21.0    28.0    18.0    71.0    46.0    25.0  \n",
       "4    24.0    25.0    33.0    69.0    38.0    37.0  \n",
       "\n",
       "[5 rows x 28 columns]"
      ]
     },
     "execution_count": 17,
     "metadata": {},
     "output_type": "execute_result"
    }
   ],
   "source": [
    "df_env = pd.read_csv(DATA_PATH / \"pre-extracted\" / \"environmental_vectors.csv\", sep=\";\")\n",
    "df_env.head()"
   ]
  },
  {
   "cell_type": "code",
   "execution_count": 18,
   "id": "507bbaea-edae-4193-9002-405835faa605",
   "metadata": {},
   "outputs": [],
   "source": [
    "env_columns = df_env.iloc[:,1:].columns.tolist()+['latitude','longitude']"
   ]
  },
  {
   "cell_type": "markdown",
   "id": "70e54bd9-dd0f-42c2-ac43-2a8c42bb2242",
   "metadata": {},
   "source": [
    "#### Landcover Mapping ####"
   ]
  },
  {
   "cell_type": "code",
   "execution_count": 19,
   "id": "5f15cd5e-5646-4026-8a86-ffb43169c76b",
   "metadata": {},
   "outputs": [],
   "source": [
    "df_suggested_landcover_alignment = pd.read_csv(DATA_PATH / \"metadata\" / \"landcover_suggested_alignment.csv\", sep=\";\")\n",
    "landcover_mapping = df_suggested_landcover_alignment[\"suggested_landcover_code\"].values"
   ]
  },
  {
   "cell_type": "markdown",
   "id": "61dd285e-7878-425a-9754-946e23dcb9d3",
   "metadata": {},
   "source": [
    "## Prepare Data ##"
   ]
  },
  {
   "cell_type": "code",
   "execution_count": 20,
   "id": "8001457e-1d3f-448a-971b-732e3567c6ba",
   "metadata": {},
   "outputs": [],
   "source": [
    "train_df = df_obs[df_obs[\"subset\"] == \"train\"]\n",
    "val_df = df_obs[df_obs[\"subset\"] == \"val\"]"
   ]
  },
  {
   "cell_type": "code",
   "execution_count": 21,
   "id": "3678180a-fb89-42da-9f7a-306989eddcb4",
   "metadata": {},
   "outputs": [],
   "source": [
    "# df_obs_test[df_obs_test.observation_id.isin(df_env[df_env.isnull().any(axis=1)].observation_id.unique())]"
   ]
  },
  {
   "cell_type": "code",
   "execution_count": 22,
   "id": "c89ef42e-e3ee-4acc-988a-5d2415c3b80a",
   "metadata": {},
   "outputs": [],
   "source": [
    "df_env = df_env.fillna(df_env.mean(axis=0)) "
   ]
  },
  {
   "cell_type": "code",
   "execution_count": 23,
   "id": "27a06cc9-ea3c-404f-811c-2015d9112b3f",
   "metadata": {},
   "outputs": [],
   "source": [
    "train_df = train_df.merge(df_env, on='observation_id') \n",
    "val_df = val_df.merge(df_env, on='observation_id')\n",
    "test_df = df_obs_test.merge(df_env, on='observation_id')"
   ]
  },
  {
   "cell_type": "code",
   "execution_count": 24,
   "id": "9c1fb1c2-2ba1-44da-941a-ce0a991bc3ef",
   "metadata": {},
   "outputs": [
    {
     "data": {
      "text/html": [
       "<div>\n",
       "<style scoped>\n",
       "    .dataframe tbody tr th:only-of-type {\n",
       "        vertical-align: middle;\n",
       "    }\n",
       "\n",
       "    .dataframe tbody tr th {\n",
       "        vertical-align: top;\n",
       "    }\n",
       "\n",
       "    .dataframe thead th {\n",
       "        text-align: right;\n",
       "    }\n",
       "</style>\n",
       "<table border=\"1\" class=\"dataframe\">\n",
       "  <thead>\n",
       "    <tr style=\"text-align: right;\">\n",
       "      <th></th>\n",
       "      <th>observation_id</th>\n",
       "      <th>latitude</th>\n",
       "      <th>longitude</th>\n",
       "      <th>bio_1</th>\n",
       "      <th>bio_2</th>\n",
       "      <th>bio_3</th>\n",
       "      <th>bio_4</th>\n",
       "      <th>bio_5</th>\n",
       "      <th>bio_6</th>\n",
       "      <th>bio_7</th>\n",
       "      <th>...</th>\n",
       "      <th>bio_18</th>\n",
       "      <th>bio_19</th>\n",
       "      <th>bdticm</th>\n",
       "      <th>bldfie</th>\n",
       "      <th>cecsol</th>\n",
       "      <th>clyppt</th>\n",
       "      <th>orcdrc</th>\n",
       "      <th>phihox</th>\n",
       "      <th>sltppt</th>\n",
       "      <th>sndppt</th>\n",
       "    </tr>\n",
       "  </thead>\n",
       "  <tbody>\n",
       "  </tbody>\n",
       "</table>\n",
       "<p>0 rows × 30 columns</p>\n",
       "</div>"
      ],
      "text/plain": [
       "Empty DataFrame\n",
       "Columns: [observation_id, latitude, longitude, bio_1, bio_2, bio_3, bio_4, bio_5, bio_6, bio_7, bio_8, bio_9, bio_10, bio_11, bio_12, bio_13, bio_14, bio_15, bio_16, bio_17, bio_18, bio_19, bdticm, bldfie, cecsol, clyppt, orcdrc, phihox, sltppt, sndppt]\n",
       "Index: []\n",
       "\n",
       "[0 rows x 30 columns]"
      ]
     },
     "execution_count": 24,
     "metadata": {},
     "output_type": "execute_result"
    }
   ],
   "source": [
    "test_df[test_df.isnull().any(axis=1)]"
   ]
  },
  {
   "cell_type": "code",
   "execution_count": 25,
   "id": "24ea3a5a-e965-48a9-b2a1-75890252ebe7",
   "metadata": {},
   "outputs": [
    {
     "data": {
      "text/plain": [
       "LabelEncoder()"
      ]
     },
     "execution_count": 25,
     "metadata": {},
     "output_type": "execute_result"
    }
   ],
   "source": [
    "label_encoder = LabelEncoder()\n",
    "label_encoder.fit(df_obs[\"species_id\"].values)"
   ]
  },
  {
   "cell_type": "code",
   "execution_count": 26,
   "id": "5c661666-417f-45aa-bd7c-5d3b191e9760",
   "metadata": {},
   "outputs": [
    {
     "data": {
      "text/plain": [
       "(17037,)"
      ]
     },
     "execution_count": 26,
     "metadata": {},
     "output_type": "execute_result"
    }
   ],
   "source": [
    "label_encoder.classes_.shape"
   ]
  },
  {
   "cell_type": "code",
   "execution_count": null,
   "id": "ca5d57f1-bda7-4d27-b6ab-61b2acd36fb7",
   "metadata": {},
   "outputs": [],
   "source": []
  },
  {
   "cell_type": "code",
   "execution_count": 27,
   "id": "fe7432ea-0f65-4f2d-b9e8-08a58e671c07",
   "metadata": {},
   "outputs": [],
   "source": [
    "# X_train = train_df[env_columns].values\n",
    "# X_val = val_df[env_columns].values\n",
    "# X_test = test_df[env_columns].values\n",
    "\n",
    "# y_train = label_encoder.transform(train_df[\"species_id\"].values)\n",
    "# y_val = label_encoder.transform(val_df[\"species_id\"].values)\n",
    "\n",
    "# n_val = len(val_df)\n",
    "# print(\"Validation set size: {} ({:.1%} of train observations)\".format(n_val, n_val / len(df_obs)))"
   ]
  },
  {
   "cell_type": "code",
   "execution_count": 28,
   "id": "b9a50c31-2f44-47da-840b-b9e42356cbd1",
   "metadata": {},
   "outputs": [
    {
     "name": "stdout",
     "output_type": "stream",
     "text": [
      "Validation set size: 40080 (2.5% of train observations)\n"
     ]
    }
   ],
   "source": [
    "train_df[\"species_id\"] = label_encoder.transform(train_df[\"species_id\"].values)\n",
    "val_df[\"species_id\"] = label_encoder.transform(val_df[\"species_id\"].values)\n",
    "n_val = len(val_df)\n",
    "print(\"Validation set size: {} ({:.1%} of train observations)\".format(n_val, n_val / len(df_obs)))"
   ]
  },
  {
   "cell_type": "code",
   "execution_count": 29,
   "id": "59f43451-5d82-4b79-aee3-0cc888842855",
   "metadata": {},
   "outputs": [
    {
     "data": {
      "text/html": [
       "<div>\n",
       "<style scoped>\n",
       "    .dataframe tbody tr th:only-of-type {\n",
       "        vertical-align: middle;\n",
       "    }\n",
       "\n",
       "    .dataframe tbody tr th {\n",
       "        vertical-align: top;\n",
       "    }\n",
       "\n",
       "    .dataframe thead th {\n",
       "        text-align: right;\n",
       "    }\n",
       "</style>\n",
       "<table border=\"1\" class=\"dataframe\">\n",
       "  <thead>\n",
       "    <tr style=\"text-align: right;\">\n",
       "      <th></th>\n",
       "      <th>observation_id</th>\n",
       "      <th>latitude</th>\n",
       "      <th>longitude</th>\n",
       "      <th>species_id</th>\n",
       "      <th>subset</th>\n",
       "      <th>bio_1</th>\n",
       "      <th>bio_2</th>\n",
       "      <th>bio_3</th>\n",
       "      <th>bio_4</th>\n",
       "      <th>bio_5</th>\n",
       "      <th>...</th>\n",
       "      <th>bio_18</th>\n",
       "      <th>bio_19</th>\n",
       "      <th>bdticm</th>\n",
       "      <th>bldfie</th>\n",
       "      <th>cecsol</th>\n",
       "      <th>clyppt</th>\n",
       "      <th>orcdrc</th>\n",
       "      <th>phihox</th>\n",
       "      <th>sltppt</th>\n",
       "      <th>sndppt</th>\n",
       "    </tr>\n",
       "  </thead>\n",
       "  <tbody>\n",
       "    <tr>\n",
       "      <th>0</th>\n",
       "      <td>10561949</td>\n",
       "      <td>45.705116</td>\n",
       "      <td>1.424622</td>\n",
       "      <td>241</td>\n",
       "      <td>train</td>\n",
       "      <td>11.229167</td>\n",
       "      <td>8.724999</td>\n",
       "      <td>37.286324</td>\n",
       "      <td>556.81506</td>\n",
       "      <td>24.5</td>\n",
       "      <td>...</td>\n",
       "      <td>211.0</td>\n",
       "      <td>287.0</td>\n",
       "      <td>1678.0</td>\n",
       "      <td>1381.0</td>\n",
       "      <td>13.0</td>\n",
       "      <td>20.0</td>\n",
       "      <td>26.0</td>\n",
       "      <td>58.0</td>\n",
       "      <td>36.0</td>\n",
       "      <td>44.0</td>\n",
       "    </tr>\n",
       "    <tr>\n",
       "      <th>1</th>\n",
       "      <td>10131188</td>\n",
       "      <td>45.146973</td>\n",
       "      <td>6.416794</td>\n",
       "      <td>101</td>\n",
       "      <td>train</td>\n",
       "      <td>4.587500</td>\n",
       "      <td>9.058333</td>\n",
       "      <td>33.302696</td>\n",
       "      <td>664.60220</td>\n",
       "      <td>19.9</td>\n",
       "      <td>...</td>\n",
       "      <td>265.0</td>\n",
       "      <td>362.0</td>\n",
       "      <td>1771.0</td>\n",
       "      <td>1219.0</td>\n",
       "      <td>28.0</td>\n",
       "      <td>18.0</td>\n",
       "      <td>49.0</td>\n",
       "      <td>61.0</td>\n",
       "      <td>38.0</td>\n",
       "      <td>45.0</td>\n",
       "    </tr>\n",
       "    <tr>\n",
       "      <th>2</th>\n",
       "      <td>10799362</td>\n",
       "      <td>46.783695</td>\n",
       "      <td>-2.072855</td>\n",
       "      <td>700</td>\n",
       "      <td>train</td>\n",
       "      <td>12.625000</td>\n",
       "      <td>6.650000</td>\n",
       "      <td>34.635418</td>\n",
       "      <td>466.43960</td>\n",
       "      <td>23.4</td>\n",
       "      <td>...</td>\n",
       "      <td>137.0</td>\n",
       "      <td>253.0</td>\n",
       "      <td>1808.0</td>\n",
       "      <td>1351.0</td>\n",
       "      <td>21.0</td>\n",
       "      <td>24.0</td>\n",
       "      <td>31.0</td>\n",
       "      <td>72.0</td>\n",
       "      <td>34.0</td>\n",
       "      <td>42.0</td>\n",
       "    </tr>\n",
       "    <tr>\n",
       "      <th>3</th>\n",
       "      <td>10392536</td>\n",
       "      <td>48.604866</td>\n",
       "      <td>-2.825003</td>\n",
       "      <td>1456</td>\n",
       "      <td>train</td>\n",
       "      <td>11.579166</td>\n",
       "      <td>6.525000</td>\n",
       "      <td>37.500000</td>\n",
       "      <td>406.30518</td>\n",
       "      <td>21.4</td>\n",
       "      <td>...</td>\n",
       "      <td>160.0</td>\n",
       "      <td>282.0</td>\n",
       "      <td>1667.0</td>\n",
       "      <td>1277.0</td>\n",
       "      <td>18.0</td>\n",
       "      <td>22.0</td>\n",
       "      <td>24.0</td>\n",
       "      <td>63.0</td>\n",
       "      <td>37.0</td>\n",
       "      <td>40.0</td>\n",
       "    </tr>\n",
       "    <tr>\n",
       "      <th>4</th>\n",
       "      <td>10335049</td>\n",
       "      <td>48.815567</td>\n",
       "      <td>-0.161431</td>\n",
       "      <td>157</td>\n",
       "      <td>train</td>\n",
       "      <td>10.295834</td>\n",
       "      <td>7.475000</td>\n",
       "      <td>36.286407</td>\n",
       "      <td>487.07130</td>\n",
       "      <td>22.1</td>\n",
       "      <td>...</td>\n",
       "      <td>152.0</td>\n",
       "      <td>235.0</td>\n",
       "      <td>1379.0</td>\n",
       "      <td>1321.0</td>\n",
       "      <td>19.0</td>\n",
       "      <td>25.0</td>\n",
       "      <td>26.0</td>\n",
       "      <td>65.0</td>\n",
       "      <td>56.0</td>\n",
       "      <td>20.0</td>\n",
       "    </tr>\n",
       "  </tbody>\n",
       "</table>\n",
       "<p>5 rows × 32 columns</p>\n",
       "</div>"
      ],
      "text/plain": [
       "   observation_id   latitude  longitude  species_id subset      bio_1  \\\n",
       "0        10561949  45.705116   1.424622         241  train  11.229167   \n",
       "1        10131188  45.146973   6.416794         101  train   4.587500   \n",
       "2        10799362  46.783695  -2.072855         700  train  12.625000   \n",
       "3        10392536  48.604866  -2.825003        1456  train  11.579166   \n",
       "4        10335049  48.815567  -0.161431         157  train  10.295834   \n",
       "\n",
       "      bio_2      bio_3      bio_4  bio_5  ...  bio_18  bio_19  bdticm  bldfie  \\\n",
       "0  8.724999  37.286324  556.81506   24.5  ...   211.0   287.0  1678.0  1381.0   \n",
       "1  9.058333  33.302696  664.60220   19.9  ...   265.0   362.0  1771.0  1219.0   \n",
       "2  6.650000  34.635418  466.43960   23.4  ...   137.0   253.0  1808.0  1351.0   \n",
       "3  6.525000  37.500000  406.30518   21.4  ...   160.0   282.0  1667.0  1277.0   \n",
       "4  7.475000  36.286407  487.07130   22.1  ...   152.0   235.0  1379.0  1321.0   \n",
       "\n",
       "   cecsol  clyppt  orcdrc  phihox  sltppt  sndppt  \n",
       "0    13.0    20.0    26.0    58.0    36.0    44.0  \n",
       "1    28.0    18.0    49.0    61.0    38.0    45.0  \n",
       "2    21.0    24.0    31.0    72.0    34.0    42.0  \n",
       "3    18.0    22.0    24.0    63.0    37.0    40.0  \n",
       "4    19.0    25.0    26.0    65.0    56.0    20.0  \n",
       "\n",
       "[5 rows x 32 columns]"
      ]
     },
     "execution_count": 29,
     "metadata": {},
     "output_type": "execute_result"
    }
   ],
   "source": [
    "train_df.head()"
   ]
  },
  {
   "cell_type": "markdown",
   "id": "75692215-6bf3-474c-b328-772a58e3c41c",
   "metadata": {},
   "source": [
    "#### Fill missing values ####"
   ]
  },
  {
   "cell_type": "code",
   "execution_count": 30,
   "id": "8fe5f74d-20bd-448b-a1f8-6191379bb716",
   "metadata": {},
   "outputs": [],
   "source": [
    "# imp = SimpleImputer(\n",
    "#     missing_values=np.nan,\n",
    "#     strategy=\"constant\",\n",
    "#     fill_value=np.finfo(np.float32).min,\n",
    "# )\n",
    "# imp.fit(X_train)"
   ]
  },
  {
   "cell_type": "code",
   "execution_count": 31,
   "id": "031b0c4c-b6db-4843-b745-bf1b8df241f6",
   "metadata": {},
   "outputs": [],
   "source": [
    "# X_train = imp.transform(X_train)\n",
    "# X_val = imp.transform(X_val)\n",
    "# X_test = imp.transform(X_test)"
   ]
  },
  {
   "cell_type": "markdown",
   "id": "91f7ff6a-c71e-421c-9378-76b71bb4c193",
   "metadata": {},
   "source": [
    "## Training ##"
   ]
  },
  {
   "cell_type": "code",
   "execution_count": 32,
   "id": "4c28157f-f881-4144-99dd-865d3ba70d81",
   "metadata": {},
   "outputs": [],
   "source": [
    "BATCHSIZE = 32*4\n",
    "NUM_CLASSES = len(label_encoder.classes_)\n",
    "EPOCHS = 5"
   ]
  },
  {
   "cell_type": "code",
   "execution_count": 33,
   "id": "1387611e-8adf-416b-b7a2-a8350c82d04c",
   "metadata": {},
   "outputs": [
    {
     "data": {
      "text/plain": [
       "17037"
      ]
     },
     "execution_count": 33,
     "metadata": {},
     "output_type": "execute_result"
    }
   ],
   "source": [
    "NUM_CLASSES"
   ]
  },
  {
   "cell_type": "code",
   "execution_count": 34,
   "id": "f1902398-de65-41f4-9d42-02825518021c",
   "metadata": {},
   "outputs": [],
   "source": [
    "INPUT_DIM = len(env_columns)"
   ]
  },
  {
   "cell_type": "code",
   "execution_count": 35,
   "id": "55a3a999-2e17-490f-827c-4a6acc3f3e5a",
   "metadata": {},
   "outputs": [
    {
     "name": "stderr",
     "output_type": "stream",
     "text": [
      "/home/rohit/.local/lib/python3.8/site-packages/pytorch_lightning/utilities/distributed.py:69: UserWarning: Checkpoint directory checkpoints exists and is not empty.\n",
      "  warnings.warn(*args, **kwargs)\n"
     ]
    }
   ],
   "source": [
    "checkpoint_callback = ModelCheckpoint(\n",
    "            monitor=\"valid/epoch/top_30_error\",\n",
    "            dirpath=\"checkpoints\",\n",
    "            filename=\"resnet50-env-vector-mlp-{epoch:02d}-{top_30_error:.2f}\",\n",
    "            save_top_k=2,\n",
    "            mode=\"min\",\n",
    "        )"
   ]
  },
  {
   "cell_type": "code",
   "execution_count": 36,
   "id": "3cdaeb0d-faa9-4d2a-b0cf-649da62d63e2",
   "metadata": {},
   "outputs": [],
   "source": [
    "# model = EnvVectorModelTrainer(dropout_mlp=0.1,\n",
    "#                       input_dim=INPUT_DIM,\n",
    "#                       n_classes = NUM_CLASSES,\n",
    "#                       hidden_dims=[512, 256, 128],\n",
    "#                       l_rate=0.01,\n",
    "#                       batch_size=BATCHSIZE,\n",
    "#                       X_train = X_train,\n",
    "#                       y_train = y_train,\n",
    "#                       X_val = X_val,\n",
    "#                       y_val = y_val,\n",
    "#                       num_workers = 6\n",
    "#                       )"
   ]
  },
  {
   "cell_type": "code",
   "execution_count": 37,
   "id": "a5977e11-96b7-440e-a156-65e16a172723",
   "metadata": {},
   "outputs": [
    {
     "name": "stderr",
     "output_type": "stream",
     "text": [
      "Using cache found in /home/rohit/.cache/torch/hub/pytorch_vision_v0.10.0\n",
      "Downloading: \"https://download.pytorch.org/models/resnet50-0676ba61.pth\" to /home/rohit/.cache/torch/hub/checkpoints/resnet50-0676ba61.pth\n"
     ]
    },
    {
     "data": {
      "application/vnd.jupyter.widget-view+json": {
       "model_id": "6f345729eac84f8cb45c37fce10b5499",
       "version_major": 2,
       "version_minor": 0
      },
      "text/plain": [
       "  0%|          | 0.00/97.8M [00:00<?, ?B/s]"
      ]
     },
     "metadata": {},
     "output_type": "display_data"
    }
   ],
   "source": [
    "model = ResNetBasedModelTrainer(res_net_out_dim = 1000,\n",
    "                 dropout_mlp = 0.1,\n",
    "                 input_dim = INPUT_DIM,\n",
    "                 n_classes = NUM_CLASSES,\n",
    "                 hidden_dims = [512, 256],\n",
    "                 l_rate = 0.01,\n",
    "                 batch_size = BATCHSIZE,\n",
    "                 train_df = train_df,\n",
    "                 val_df = val_df,\n",
    "                 env_vec_columns = env_columns, \n",
    "                 landcover_mapping = landcover_mapping, \n",
    "                 data_path = DATA_PATH,\n",
    "                 num_workers = 15)"
   ]
  },
  {
   "cell_type": "code",
   "execution_count": 38,
   "id": "5085a3f1-6439-4707-b3a1-72139c9f745c",
   "metadata": {},
   "outputs": [
    {
     "name": "stdout",
     "output_type": "stream",
     "text": [
      "ResNetBasedModelTrainer(\n",
      "  (model): ResnetBasedModel(\n",
      "    (mlp_nn): Sequential(\n",
      "      (0): Linear(in_features=1029, out_features=512, bias=True)\n",
      "      (1): ReLU()\n",
      "      (2): Linear(in_features=512, out_features=256, bias=True)\n",
      "      (3): ReLU()\n",
      "      (4): Linear(in_features=256, out_features=17037, bias=True)\n",
      "    )\n",
      "    (m): LogSoftmax(dim=1)\n",
      "    (res_model): ResNet(\n",
      "      (conv1): Conv2d(3, 64, kernel_size=(7, 7), stride=(2, 2), padding=(3, 3), bias=False)\n",
      "      (bn1): BatchNorm2d(64, eps=1e-05, momentum=0.1, affine=True, track_running_stats=True)\n",
      "      (relu): ReLU(inplace=True)\n",
      "      (maxpool): MaxPool2d(kernel_size=3, stride=2, padding=1, dilation=1, ceil_mode=False)\n",
      "      (layer1): Sequential(\n",
      "        (0): Bottleneck(\n",
      "          (conv1): Conv2d(64, 64, kernel_size=(1, 1), stride=(1, 1), bias=False)\n",
      "          (bn1): BatchNorm2d(64, eps=1e-05, momentum=0.1, affine=True, track_running_stats=True)\n",
      "          (conv2): Conv2d(64, 64, kernel_size=(3, 3), stride=(1, 1), padding=(1, 1), bias=False)\n",
      "          (bn2): BatchNorm2d(64, eps=1e-05, momentum=0.1, affine=True, track_running_stats=True)\n",
      "          (conv3): Conv2d(64, 256, kernel_size=(1, 1), stride=(1, 1), bias=False)\n",
      "          (bn3): BatchNorm2d(256, eps=1e-05, momentum=0.1, affine=True, track_running_stats=True)\n",
      "          (relu): ReLU(inplace=True)\n",
      "          (downsample): Sequential(\n",
      "            (0): Conv2d(64, 256, kernel_size=(1, 1), stride=(1, 1), bias=False)\n",
      "            (1): BatchNorm2d(256, eps=1e-05, momentum=0.1, affine=True, track_running_stats=True)\n",
      "          )\n",
      "        )\n",
      "        (1): Bottleneck(\n",
      "          (conv1): Conv2d(256, 64, kernel_size=(1, 1), stride=(1, 1), bias=False)\n",
      "          (bn1): BatchNorm2d(64, eps=1e-05, momentum=0.1, affine=True, track_running_stats=True)\n",
      "          (conv2): Conv2d(64, 64, kernel_size=(3, 3), stride=(1, 1), padding=(1, 1), bias=False)\n",
      "          (bn2): BatchNorm2d(64, eps=1e-05, momentum=0.1, affine=True, track_running_stats=True)\n",
      "          (conv3): Conv2d(64, 256, kernel_size=(1, 1), stride=(1, 1), bias=False)\n",
      "          (bn3): BatchNorm2d(256, eps=1e-05, momentum=0.1, affine=True, track_running_stats=True)\n",
      "          (relu): ReLU(inplace=True)\n",
      "        )\n",
      "        (2): Bottleneck(\n",
      "          (conv1): Conv2d(256, 64, kernel_size=(1, 1), stride=(1, 1), bias=False)\n",
      "          (bn1): BatchNorm2d(64, eps=1e-05, momentum=0.1, affine=True, track_running_stats=True)\n",
      "          (conv2): Conv2d(64, 64, kernel_size=(3, 3), stride=(1, 1), padding=(1, 1), bias=False)\n",
      "          (bn2): BatchNorm2d(64, eps=1e-05, momentum=0.1, affine=True, track_running_stats=True)\n",
      "          (conv3): Conv2d(64, 256, kernel_size=(1, 1), stride=(1, 1), bias=False)\n",
      "          (bn3): BatchNorm2d(256, eps=1e-05, momentum=0.1, affine=True, track_running_stats=True)\n",
      "          (relu): ReLU(inplace=True)\n",
      "        )\n",
      "      )\n",
      "      (layer2): Sequential(\n",
      "        (0): Bottleneck(\n",
      "          (conv1): Conv2d(256, 128, kernel_size=(1, 1), stride=(1, 1), bias=False)\n",
      "          (bn1): BatchNorm2d(128, eps=1e-05, momentum=0.1, affine=True, track_running_stats=True)\n",
      "          (conv2): Conv2d(128, 128, kernel_size=(3, 3), stride=(2, 2), padding=(1, 1), bias=False)\n",
      "          (bn2): BatchNorm2d(128, eps=1e-05, momentum=0.1, affine=True, track_running_stats=True)\n",
      "          (conv3): Conv2d(128, 512, kernel_size=(1, 1), stride=(1, 1), bias=False)\n",
      "          (bn3): BatchNorm2d(512, eps=1e-05, momentum=0.1, affine=True, track_running_stats=True)\n",
      "          (relu): ReLU(inplace=True)\n",
      "          (downsample): Sequential(\n",
      "            (0): Conv2d(256, 512, kernel_size=(1, 1), stride=(2, 2), bias=False)\n",
      "            (1): BatchNorm2d(512, eps=1e-05, momentum=0.1, affine=True, track_running_stats=True)\n",
      "          )\n",
      "        )\n",
      "        (1): Bottleneck(\n",
      "          (conv1): Conv2d(512, 128, kernel_size=(1, 1), stride=(1, 1), bias=False)\n",
      "          (bn1): BatchNorm2d(128, eps=1e-05, momentum=0.1, affine=True, track_running_stats=True)\n",
      "          (conv2): Conv2d(128, 128, kernel_size=(3, 3), stride=(1, 1), padding=(1, 1), bias=False)\n",
      "          (bn2): BatchNorm2d(128, eps=1e-05, momentum=0.1, affine=True, track_running_stats=True)\n",
      "          (conv3): Conv2d(128, 512, kernel_size=(1, 1), stride=(1, 1), bias=False)\n",
      "          (bn3): BatchNorm2d(512, eps=1e-05, momentum=0.1, affine=True, track_running_stats=True)\n",
      "          (relu): ReLU(inplace=True)\n",
      "        )\n",
      "        (2): Bottleneck(\n",
      "          (conv1): Conv2d(512, 128, kernel_size=(1, 1), stride=(1, 1), bias=False)\n",
      "          (bn1): BatchNorm2d(128, eps=1e-05, momentum=0.1, affine=True, track_running_stats=True)\n",
      "          (conv2): Conv2d(128, 128, kernel_size=(3, 3), stride=(1, 1), padding=(1, 1), bias=False)\n",
      "          (bn2): BatchNorm2d(128, eps=1e-05, momentum=0.1, affine=True, track_running_stats=True)\n",
      "          (conv3): Conv2d(128, 512, kernel_size=(1, 1), stride=(1, 1), bias=False)\n",
      "          (bn3): BatchNorm2d(512, eps=1e-05, momentum=0.1, affine=True, track_running_stats=True)\n",
      "          (relu): ReLU(inplace=True)\n",
      "        )\n",
      "        (3): Bottleneck(\n",
      "          (conv1): Conv2d(512, 128, kernel_size=(1, 1), stride=(1, 1), bias=False)\n",
      "          (bn1): BatchNorm2d(128, eps=1e-05, momentum=0.1, affine=True, track_running_stats=True)\n",
      "          (conv2): Conv2d(128, 128, kernel_size=(3, 3), stride=(1, 1), padding=(1, 1), bias=False)\n",
      "          (bn2): BatchNorm2d(128, eps=1e-05, momentum=0.1, affine=True, track_running_stats=True)\n",
      "          (conv3): Conv2d(128, 512, kernel_size=(1, 1), stride=(1, 1), bias=False)\n",
      "          (bn3): BatchNorm2d(512, eps=1e-05, momentum=0.1, affine=True, track_running_stats=True)\n",
      "          (relu): ReLU(inplace=True)\n",
      "        )\n",
      "      )\n",
      "      (layer3): Sequential(\n",
      "        (0): Bottleneck(\n",
      "          (conv1): Conv2d(512, 256, kernel_size=(1, 1), stride=(1, 1), bias=False)\n",
      "          (bn1): BatchNorm2d(256, eps=1e-05, momentum=0.1, affine=True, track_running_stats=True)\n",
      "          (conv2): Conv2d(256, 256, kernel_size=(3, 3), stride=(2, 2), padding=(1, 1), bias=False)\n",
      "          (bn2): BatchNorm2d(256, eps=1e-05, momentum=0.1, affine=True, track_running_stats=True)\n",
      "          (conv3): Conv2d(256, 1024, kernel_size=(1, 1), stride=(1, 1), bias=False)\n",
      "          (bn3): BatchNorm2d(1024, eps=1e-05, momentum=0.1, affine=True, track_running_stats=True)\n",
      "          (relu): ReLU(inplace=True)\n",
      "          (downsample): Sequential(\n",
      "            (0): Conv2d(512, 1024, kernel_size=(1, 1), stride=(2, 2), bias=False)\n",
      "            (1): BatchNorm2d(1024, eps=1e-05, momentum=0.1, affine=True, track_running_stats=True)\n",
      "          )\n",
      "        )\n",
      "        (1): Bottleneck(\n",
      "          (conv1): Conv2d(1024, 256, kernel_size=(1, 1), stride=(1, 1), bias=False)\n",
      "          (bn1): BatchNorm2d(256, eps=1e-05, momentum=0.1, affine=True, track_running_stats=True)\n",
      "          (conv2): Conv2d(256, 256, kernel_size=(3, 3), stride=(1, 1), padding=(1, 1), bias=False)\n",
      "          (bn2): BatchNorm2d(256, eps=1e-05, momentum=0.1, affine=True, track_running_stats=True)\n",
      "          (conv3): Conv2d(256, 1024, kernel_size=(1, 1), stride=(1, 1), bias=False)\n",
      "          (bn3): BatchNorm2d(1024, eps=1e-05, momentum=0.1, affine=True, track_running_stats=True)\n",
      "          (relu): ReLU(inplace=True)\n",
      "        )\n",
      "        (2): Bottleneck(\n",
      "          (conv1): Conv2d(1024, 256, kernel_size=(1, 1), stride=(1, 1), bias=False)\n",
      "          (bn1): BatchNorm2d(256, eps=1e-05, momentum=0.1, affine=True, track_running_stats=True)\n",
      "          (conv2): Conv2d(256, 256, kernel_size=(3, 3), stride=(1, 1), padding=(1, 1), bias=False)\n",
      "          (bn2): BatchNorm2d(256, eps=1e-05, momentum=0.1, affine=True, track_running_stats=True)\n",
      "          (conv3): Conv2d(256, 1024, kernel_size=(1, 1), stride=(1, 1), bias=False)\n",
      "          (bn3): BatchNorm2d(1024, eps=1e-05, momentum=0.1, affine=True, track_running_stats=True)\n",
      "          (relu): ReLU(inplace=True)\n",
      "        )\n",
      "        (3): Bottleneck(\n",
      "          (conv1): Conv2d(1024, 256, kernel_size=(1, 1), stride=(1, 1), bias=False)\n",
      "          (bn1): BatchNorm2d(256, eps=1e-05, momentum=0.1, affine=True, track_running_stats=True)\n",
      "          (conv2): Conv2d(256, 256, kernel_size=(3, 3), stride=(1, 1), padding=(1, 1), bias=False)\n",
      "          (bn2): BatchNorm2d(256, eps=1e-05, momentum=0.1, affine=True, track_running_stats=True)\n",
      "          (conv3): Conv2d(256, 1024, kernel_size=(1, 1), stride=(1, 1), bias=False)\n",
      "          (bn3): BatchNorm2d(1024, eps=1e-05, momentum=0.1, affine=True, track_running_stats=True)\n",
      "          (relu): ReLU(inplace=True)\n",
      "        )\n",
      "        (4): Bottleneck(\n",
      "          (conv1): Conv2d(1024, 256, kernel_size=(1, 1), stride=(1, 1), bias=False)\n",
      "          (bn1): BatchNorm2d(256, eps=1e-05, momentum=0.1, affine=True, track_running_stats=True)\n",
      "          (conv2): Conv2d(256, 256, kernel_size=(3, 3), stride=(1, 1), padding=(1, 1), bias=False)\n",
      "          (bn2): BatchNorm2d(256, eps=1e-05, momentum=0.1, affine=True, track_running_stats=True)\n",
      "          (conv3): Conv2d(256, 1024, kernel_size=(1, 1), stride=(1, 1), bias=False)\n",
      "          (bn3): BatchNorm2d(1024, eps=1e-05, momentum=0.1, affine=True, track_running_stats=True)\n",
      "          (relu): ReLU(inplace=True)\n",
      "        )\n",
      "        (5): Bottleneck(\n",
      "          (conv1): Conv2d(1024, 256, kernel_size=(1, 1), stride=(1, 1), bias=False)\n",
      "          (bn1): BatchNorm2d(256, eps=1e-05, momentum=0.1, affine=True, track_running_stats=True)\n",
      "          (conv2): Conv2d(256, 256, kernel_size=(3, 3), stride=(1, 1), padding=(1, 1), bias=False)\n",
      "          (bn2): BatchNorm2d(256, eps=1e-05, momentum=0.1, affine=True, track_running_stats=True)\n",
      "          (conv3): Conv2d(256, 1024, kernel_size=(1, 1), stride=(1, 1), bias=False)\n",
      "          (bn3): BatchNorm2d(1024, eps=1e-05, momentum=0.1, affine=True, track_running_stats=True)\n",
      "          (relu): ReLU(inplace=True)\n",
      "        )\n",
      "      )\n",
      "      (layer4): Sequential(\n",
      "        (0): Bottleneck(\n",
      "          (conv1): Conv2d(1024, 512, kernel_size=(1, 1), stride=(1, 1), bias=False)\n",
      "          (bn1): BatchNorm2d(512, eps=1e-05, momentum=0.1, affine=True, track_running_stats=True)\n",
      "          (conv2): Conv2d(512, 512, kernel_size=(3, 3), stride=(2, 2), padding=(1, 1), bias=False)\n",
      "          (bn2): BatchNorm2d(512, eps=1e-05, momentum=0.1, affine=True, track_running_stats=True)\n",
      "          (conv3): Conv2d(512, 2048, kernel_size=(1, 1), stride=(1, 1), bias=False)\n",
      "          (bn3): BatchNorm2d(2048, eps=1e-05, momentum=0.1, affine=True, track_running_stats=True)\n",
      "          (relu): ReLU(inplace=True)\n",
      "          (downsample): Sequential(\n",
      "            (0): Conv2d(1024, 2048, kernel_size=(1, 1), stride=(2, 2), bias=False)\n",
      "            (1): BatchNorm2d(2048, eps=1e-05, momentum=0.1, affine=True, track_running_stats=True)\n",
      "          )\n",
      "        )\n",
      "        (1): Bottleneck(\n",
      "          (conv1): Conv2d(2048, 512, kernel_size=(1, 1), stride=(1, 1), bias=False)\n",
      "          (bn1): BatchNorm2d(512, eps=1e-05, momentum=0.1, affine=True, track_running_stats=True)\n",
      "          (conv2): Conv2d(512, 512, kernel_size=(3, 3), stride=(1, 1), padding=(1, 1), bias=False)\n",
      "          (bn2): BatchNorm2d(512, eps=1e-05, momentum=0.1, affine=True, track_running_stats=True)\n",
      "          (conv3): Conv2d(512, 2048, kernel_size=(1, 1), stride=(1, 1), bias=False)\n",
      "          (bn3): BatchNorm2d(2048, eps=1e-05, momentum=0.1, affine=True, track_running_stats=True)\n",
      "          (relu): ReLU(inplace=True)\n",
      "        )\n",
      "        (2): Bottleneck(\n",
      "          (conv1): Conv2d(2048, 512, kernel_size=(1, 1), stride=(1, 1), bias=False)\n",
      "          (bn1): BatchNorm2d(512, eps=1e-05, momentum=0.1, affine=True, track_running_stats=True)\n",
      "          (conv2): Conv2d(512, 512, kernel_size=(3, 3), stride=(1, 1), padding=(1, 1), bias=False)\n",
      "          (bn2): BatchNorm2d(512, eps=1e-05, momentum=0.1, affine=True, track_running_stats=True)\n",
      "          (conv3): Conv2d(512, 2048, kernel_size=(1, 1), stride=(1, 1), bias=False)\n",
      "          (bn3): BatchNorm2d(2048, eps=1e-05, momentum=0.1, affine=True, track_running_stats=True)\n",
      "          (relu): ReLU(inplace=True)\n",
      "        )\n",
      "      )\n",
      "      (avgpool): AdaptiveAvgPool2d(output_size=(1, 1))\n",
      "      (fc): Linear(in_features=2048, out_features=1000, bias=True)\n",
      "    )\n",
      "  )\n",
      "  (criterion): NLLLoss()\n",
      ")\n"
     ]
    }
   ],
   "source": [
    "print(model)"
   ]
  },
  {
   "cell_type": "code",
   "execution_count": 39,
   "id": "36d62f6d-fe07-4849-a177-c0dddd480032",
   "metadata": {},
   "outputs": [
    {
     "name": "stderr",
     "output_type": "stream",
     "text": [
      "GPU available: True, used: True\n",
      "TPU available: False, using: 0 TPU cores\n"
     ]
    }
   ],
   "source": [
    "trainer = Trainer(max_epochs=EPOCHS,\n",
    "                  fast_dev_run=False,\n",
    "                  callbacks=[checkpoint_callback],\n",
    "                  gpus=1)"
   ]
  },
  {
   "cell_type": "code",
   "execution_count": null,
   "id": "5d491704-bc36-464b-a4f4-f5296e1de8da",
   "metadata": {},
   "outputs": [
    {
     "name": "stderr",
     "output_type": "stream",
     "text": [
      "LOCAL_RANK: 0 - CUDA_VISIBLE_DEVICES: [0]\n",
      "\n",
      "  | Name      | Type             | Params\n",
      "-----------------------------------------------\n",
      "0 | model     | ResnetBasedModel | 30.6 M\n",
      "1 | criterion | NLLLoss          | 0     \n",
      "-----------------------------------------------\n",
      "30.6 M    Trainable params\n",
      "0         Non-trainable params\n",
      "30.6 M    Total params\n",
      "122.377   Total estimated model params size (MB)\n"
     ]
    },
    {
     "data": {
      "application/vnd.jupyter.widget-view+json": {
       "model_id": "",
       "version_major": 2,
       "version_minor": 0
      },
      "text/plain": [
       "Validation sanity check: 0it [00:00, ?it/s]"
      ]
     },
     "metadata": {},
     "output_type": "display_data"
    },
    {
     "name": "stdout",
     "output_type": "stream",
     "text": [
      "Top-30 error rate: 98.3% Validation Set\n"
     ]
    },
    {
     "data": {
      "application/vnd.jupyter.widget-view+json": {
       "model_id": "93e7eb8c8a5549fd993c23310a228d1b",
       "version_major": 2,
       "version_minor": 0
      },
      "text/plain": [
       "Training: 0it [00:00, ?it/s]"
      ]
     },
     "metadata": {},
     "output_type": "display_data"
    }
   ],
   "source": [
    "trainer.fit(model)"
   ]
  },
  {
   "cell_type": "code",
   "execution_count": null,
   "id": "80140833-1b75-43ef-9af8-89dea0a1816a",
   "metadata": {},
   "outputs": [],
   "source": [
    "print('done')"
   ]
  },
  {
   "cell_type": "code",
   "execution_count": null,
   "id": "03f81acb-59d3-4fb7-9130-ce3f4d9efb55",
   "metadata": {},
   "outputs": [],
   "source": []
  }
 ],
 "metadata": {
  "kernelspec": {
   "display_name": "Python 3 (ipykernel)",
   "language": "python",
   "name": "python3"
  },
  "language_info": {
   "codemirror_mode": {
    "name": "ipython",
    "version": 3
   },
   "file_extension": ".py",
   "mimetype": "text/x-python",
   "name": "python",
   "nbconvert_exporter": "python",
   "pygments_lexer": "ipython3",
   "version": "3.8.10"
  }
 },
 "nbformat": 4,
 "nbformat_minor": 5
}
